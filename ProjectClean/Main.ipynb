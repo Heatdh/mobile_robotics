{
 "cells": [
  {
   "cell_type": "code",
   "execution_count": null,
   "id": "db58f38e",
   "metadata": {},
   "outputs": [],
   "source": [
    "import cv2\n",
    "import numpy as np\n",
    "from ipywidgets import *\n",
    "import matplotlib.pyplot as plt\n",
    "import math\n",
    "from math import atan2, cos, sin, sqrt, pi\n",
    "from sympy import Point, Polygon, Line, Segment\n",
    "\n",
    "#custom libraries\n",
    "from TrajectoryPlanner import Node, Planner\n",
    "from Vision import Vision"
   ]
  },
  {
   "cell_type": "code",
   "execution_count": null,
   "id": "f4477f6b",
   "metadata": {},
   "outputs": [],
   "source": [
    "#tuning parameters\n",
    "min_blue = np.array([70, 80, 0])\n",
    "min_red = np.array([70, 80, 0])\n",
    "\n",
    "max_blue = np.array([70, 80, 0])\n",
    "max_red = np.array([70, 80, 0])\n",
    "\n",
    "min_green = np.array([21, 0, 0])\n",
    "max_green = np.array([80, 255, 216])\n",
    "\n",
    "point_threshold = 10 #how far we can be from a point to have reached it\n",
    "obstacle_threshold = 3000 #proximity threshold value to detect an obstacle\n",
    "kidnapping_threshold = 100 #how far we can be from trajectory before triggering a re-planning\n",
    "\n",
    "#variables\n",
    "x = 0 #tymio initial position\n",
    "y = 0 #tymio initial position\n",
    "angle = 0 #tymio angle\n",
    "radius = 0 #tymio radius\n",
    "\n",
    "goal_x = 0 #goal position\n",
    "goal_y = 0 #goal position\n",
    "\n",
    "vertices = [] #vertices\n",
    "\n",
    "\n",
    "\n",
    "\"\"\"\n",
    "vision = Vision()\n",
    "x_center,y_center, goal_detected = vision.get_goal_position(frame)\n",
    "center, radius, angle, thymio_detected = vision.get_thymio_position(frame,(0,0),0)\n",
    "print(\"Position: {0} , goal: {1},{2}\".format(center,x_center,y_center))\n",
    "vertices = vision.get_obstacle_position(frame,radius,min_green,max_green)[0]\"\"\""
   ]
  },
  {
   "cell_type": "code",
   "execution_count": null,
   "id": "ea65dbf1",
   "metadata": {},
   "outputs": [],
   "source": [
    "#initial computer vision\n",
    "#[TODO]\n",
    "#output should be x,y,angle,goal_position,vertices"
   ]
  },
  {
   "cell_type": "code",
   "execution_count": null,
   "id": "6ec8c333",
   "metadata": {},
   "outputs": [],
   "source": [
    "#Planning\n",
    "planner = Planner()\n",
    "planner.setup(vertices,[x,y],[goal_x,goal_y])\n",
    "path = planner.get_path()"
   ]
  },
  {
   "cell_type": "code",
   "execution_count": null,
   "id": "578b35ca",
   "metadata": {},
   "outputs": [],
   "source": [
    "state_camera_counter = 0\n",
    "state_camera_available = True\n",
    "state_obstacle = False #determines if we are in \"path following\" or \"obstacle avoidance\" mode\n",
    "state_current_path_segment = 0 #which part of the path we are currently following\n",
    "\n",
    "#this loop should be run multiple times a second\n",
    "while np.sqrt((x-goal_x)**2 + (y-goal_y)**2) <= point_threshold:\n",
    "    \n",
    "    #get proximity data\n",
    "    proximity = get_var(\"prox_horizontal\")[0][2]\n",
    "    \n",
    "    \n",
    "    #position estimation with filtering\n",
    "    if state_camera_counter >= 50 and state_camera_available:\n",
    "        frame = capture_camera() #[TODO]\n",
    "        x,y,angle = estimate_position_camera(x,y,angle,frame) #[TODO]\n",
    "        state_camera_counter = 0\n",
    "    else:\n",
    "        x,y,angle = estimage_position_no_camera(x,y,angle) #[TODO]\n",
    "    \n",
    "    \n",
    "    #updates the \"state_obstacle\" if there is an obstacle\n",
    "    if proximity >= obstacle_threshold:\n",
    "        state_obstacle = True\n",
    "    \n",
    "    \n",
    "    #follow path if there is no obstacle\n",
    "    if not state_obstacle:\n",
    "        error = controller_trajectory(x,y,angle,path) #[TODO] #changes the speed of tymio to follow path (this function is executed multiple times a second)\n",
    "        #re-plan if error is too big\n",
    "        if error >= kidnapping_threshold:\n",
    "            planner.set_start(x,y)\n",
    "            planner.update_cost()\n",
    "            path = planner.get_path()\n",
    "            \n",
    "    #avoid obstacle if there is an obstacle\n",
    "    else:\n",
    "        obstacle_avoided = controller_obstacle_avoid(x,y,angle,path) #[TODO] #changes the speed of tymio to go around the obstacle (this function is executed multiple times a second)\n",
    "        if obstacle_avoided:\n",
    "            planner.set_start(x,y)\n",
    "            planner.update_cost()\n",
    "            path = planner.get_path()\n",
    "            \n",
    "    #plotting\n",
    "            \n",
    "    state_camera_counter += 1\n",
    "        "
   ]
  }
 ],
 "metadata": {
  "kernelspec": {
   "display_name": "Python 3 (ipykernel)",
   "language": "python",
   "name": "python3"
  },
  "language_info": {
   "codemirror_mode": {
    "name": "ipython",
    "version": 3
   },
   "file_extension": ".py",
   "mimetype": "text/x-python",
   "name": "python",
   "nbconvert_exporter": "python",
   "pygments_lexer": "ipython3",
   "version": "3.9.2rc1"
  }
 },
 "nbformat": 4,
 "nbformat_minor": 5
}
