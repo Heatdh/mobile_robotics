{
 "cells": [
  {
   "cell_type": "code",
   "execution_count": 1,
   "id": "df3db2c8",
   "metadata": {},
   "outputs": [],
   "source": [
    "import cv2\n",
    "import numpy as np\n",
    "from ipywidgets import *\n",
    "import matplotlib.pyplot as plt\n",
    "import math\n",
    "from math import atan2, cos, sin, sqrt, pi\n",
    "from sympy import Point, Polygon, Line, Segment\n",
    "\n",
    "#custom libraries\n",
    "from TrajectoryPlanner import Node, Planner\n",
    "from Vision import Vision"
   ]
  },
  {
   "cell_type": "code",
   "execution_count": null,
   "id": "7a840379",
   "metadata": {},
   "outputs": [],
   "source": [
    "#=== MAIN ===\n",
    "\n",
    "#Obstacle detection\n",
    "camera = cv2.VideoCapture(1)\n",
    "ret, frame = camera.read()\n",
    "print(\"Frame shape: \" + str(frame.shape))\n",
    "vision = Vision()\n",
    "x_center,y_center, goal_detected = vision.get_goal_position(frame)\n",
    "center, radius, angle, thymio_detected = vision.get_thymio_position(frame,(0,0),0)\n",
    "\n",
    "vertices = vision.get_obstacle_position(img,radius)[0]\n",
    "\n",
    "print(\"Planning\")\n",
    "\n",
    "#Planning\n",
    "planner = Planner()\n",
    "planner.setup(vertices)\n",
    "planner.plot()"
   ]
  },
  {
   "cell_type": "code",
   "execution_count": null,
   "id": "c3f817c7",
   "metadata": {},
   "outputs": [],
   "source": []
  }
 ],
 "metadata": {
  "kernelspec": {
   "display_name": "Python 3 (ipykernel)",
   "language": "python",
   "name": "python3"
  },
  "language_info": {
   "codemirror_mode": {
    "name": "ipython",
    "version": 3
   },
   "file_extension": ".py",
   "mimetype": "text/x-python",
   "name": "python",
   "nbconvert_exporter": "python",
   "pygments_lexer": "ipython3",
   "version": "3.9.2rc1"
  }
 },
 "nbformat": 4,
 "nbformat_minor": 5
}
