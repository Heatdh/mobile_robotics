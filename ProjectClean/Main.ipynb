{
 "cells": [
  {
   "cell_type": "code",
   "execution_count": null,
   "id": "db58f38e",
   "metadata": {},
   "outputs": [],
   "source": [
    "import cv2\n",
    "import numpy as np\n",
    "from ipywidgets import *\n",
    "import matplotlib.pyplot as plt\n",
    "import math\n",
    "from math import atan2, cos, sin, sqrt, pi\n",
    "from sympy import Point, Polygon, Line, Segment\n",
    "\n",
    "#custom libraries\n",
    "from TrajectoryPlanner import Node, Planner\n",
    "from Vision import Vision"
   ]
  },
  {
   "cell_type": "code",
   "execution_count": null,
   "id": "f4477f6b",
   "metadata": {},
   "outputs": [],
   "source": [
    "#tuning parameters\n",
    "min_blue = np.array([70, 80, 0])\n",
    "min_red = np.array([70, 80, 0])\n",
    "\n",
    "max_blue = np.array([70, 80, 0])\n",
    "max_red = np.array([70, 80, 0])\n",
    "\n",
    "min_green = np.array([21, 0, 0])\n",
    "max_green = np.array([80, 255, 216])\n",
    "\n",
    "\n",
    "#variables\n",
    "x = 0 #tymio initial position\n",
    "y = 0 #tymio initial position\n",
    "angle = 0 #tymio angle\n",
    "radius = 0 #tymio radius\n",
    "\n",
    "goal_x = 0 #goal position\n",
    "goal_y = 0 #goal position\n",
    "\n",
    "vertices = [] #vertices\n",
    "\n",
    "\n",
    "\n",
    "\"\"\"\n",
    "vision = Vision()\n",
    "x_center,y_center, goal_detected = vision.get_goal_position(frame)\n",
    "center, radius, angle, thymio_detected = vision.get_thymio_position(frame,(0,0),0)\n",
    "print(\"Position: {0} , goal: {1},{2}\".format(center,x_center,y_center))\n",
    "vertices = vision.get_obstacle_position(frame,radius,min_green,max_green)[0]\"\"\""
   ]
  },
  {
   "cell_type": "code",
   "execution_count": null,
   "id": "96b9024a",
   "metadata": {},
   "outputs": [],
   "source": [
    "#initial computer vision\n",
    "\n",
    "#output should be x,y,angle,goal_position,vertices"
   ]
  },
  {
   "cell_type": "code",
   "execution_count": null,
   "id": "6ec8c333",
   "metadata": {},
   "outputs": [],
   "source": [
    "#Planning\n",
    "planner = Planner()\n",
    "planner.setup(vertices,[x,y],[goal_x,goal_y])\n",
    "planner.plot()"
   ]
  },
  {
   "cell_type": "code",
   "execution_count": null,
   "id": "578b35ca",
   "metadata": {},
   "outputs": [],
   "source": [
    "camera_counter = 0\n",
    "state_obstacle = False #determines if we are in \"path following\" or \"obstacle avoidance\" mode\n",
    "state_current_path_segment = 0 #which part of the path we are currently following\n",
    "\n",
    "#this loop should be run multiple times a second\n",
    "while np.sqrt((x-goal_x)**2 + (y-goal_y)**2) <= goal_threshold:\n",
    "    \n",
    "    #position estimation\n",
    "    if camera_counter >= 50:\n",
    "        frame = capture_camera()\n",
    "        x,y,angle = estimate_position_camera(x,y,angle,frame)\n",
    "    else:\n",
    "        x,y,angle = estimage_position_no_camera(x,y,angle)\n",
    "        \n",
    "    #updates the \"state obstacle if there is an obstacle\"\n",
    "        \n",
    "    #follow path if there is no obstacle\n",
    "    if not obstacle:\n",
    "        controller_trajectory(x,y,angle,path) #changes the speed of tymio\n",
    "    else:\n",
    "        controller_obstacle_avoid(x,y,angle,path)\n",
    "        if not obstacle:\n",
    "            path = replan()\n",
    "            \n",
    "    camera_counter += 1\n",
    "        "
   ]
  }
 ],
 "metadata": {
  "kernelspec": {
   "display_name": "Python 3 (ipykernel)",
   "language": "python",
   "name": "python3"
  },
  "language_info": {
   "codemirror_mode": {
    "name": "ipython",
    "version": 3
   },
   "file_extension": ".py",
   "mimetype": "text/x-python",
   "name": "python",
   "nbconvert_exporter": "python",
   "pygments_lexer": "ipython3",
   "version": "3.9.2rc1"
  }
 },
 "nbformat": 4,
 "nbformat_minor": 5
}
