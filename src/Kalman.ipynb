{
 "cells": [
  {
   "cell_type": "code",
   "execution_count": 1,
   "id": "8110e580",
   "metadata": {},
   "outputs": [],
   "source": [
    "# Extended Kalman Implementation"
   ]
  },
  {
   "cell_type": "code",
   "execution_count": 2,
   "id": "b9b74e6e",
   "metadata": {},
   "outputs": [],
   "source": [
    "def getVelocities(left_motor_speed, right_motor_speed): # From thymio angular motor.left.speed() and motor.right.speed(), get forward speed v and rotational speed omega: \n",
    "    wheel_radius = 5 \n",
    "    wheelbase_radius = 10\n",
    "    motortarget_to_speed = 20 # NEED TO REPLACE THESE CONSTANTS\n",
    "    \n",
    "    left_speed = motortarget_to_speed * left_motor_speed\n",
    "    right_speed = motortarget_to_speed * right_motor_speed\n",
    "    \n",
    "    v = (left_speed + right_speed)*wheel_radius/2\n",
    "    omega = (-left_speed + right_speed)*wheel_radius/wheelbase_radius\n",
    "    \n",
    "    return v, omega"
   ]
  },
  {
   "cell_type": "code",
   "execution_count": 3,
   "id": "c54c6d4c",
   "metadata": {},
   "outputs": [
    {
     "data": {
      "text/plain": [
       "(10000.0, 0.0)"
      ]
     },
     "execution_count": 3,
     "metadata": {},
     "output_type": "execute_result"
    }
   ],
   "source": [
    "getVelocities(100,100)"
   ]
  },
  {
   "cell_type": "code",
   "execution_count": 102,
   "id": "c7a38aad",
   "metadata": {},
   "outputs": [],
   "source": [
    "import numpy as np\n",
    "\n",
    "# Example of instance: KF=KalmanFilter(0.1, [0, 0, 0, 0, 0]) (Ts is time between each measurement, x_ini is initial conditions)\n",
    "\n",
    "# For update() function : need measurement vector z\n",
    "# z[0:2] are the measurements from the camera (px, py, orientation)\n",
    "# z[3:4] are the measurements from the Thymio (need to convert motor.left.speed() and motor.right.speed() to v and omega with the getVelocities() function.\n",
    "\n",
    "\n",
    "class KalmanFilter():\n",
    "    def __init__(self, Ts, x_ini):\n",
    "        self.Ts = Ts\n",
    "\n",
    "        # Initial State Vector\n",
    "        self.x=np.matrix([[x_ini[0]], [x_ini[1]], [x_ini[2]], [x_ini[3]], [x_ini[4]]])\n",
    "    \n",
    "\n",
    "        # State Transition Matrix (Warning : changes with time -> Extended Kalman Filter)\n",
    "        self.Fk=np.matrix([[1, 0, 0, 0, 0],\n",
    "                           [0, 1, 0, 0, 0],\n",
    "                           [0, 0, 1, 0, 0],\n",
    "                           [0, 0, 0, 1, 0],\n",
    "                           [0, 0, 0, 0, 1]])\n",
    "\n",
    "        # Observation matrix (here all states px, py, theta, v, omega can be observed)\n",
    "        self.H=np.matrix([[1, 0, 0, 0, 0],\n",
    "                          [0, 1, 0, 0, 0],\n",
    "                          [0, 0, 1, 0, 0],\n",
    "                          [0, 0, 0, 1, 0],\n",
    "                          [0, 0, 0, 0, 1]])\n",
    "\n",
    "        # Noise on system\n",
    "        self.Q=np.matrix([[0.01, 0, 0, 0, 0],\n",
    "                          [0, 0.01, 0, 0, 0],\n",
    "                          [0, 0, 0.01, 0, 0],\n",
    "                          [0, 0, 0, 0.01, 0],\n",
    "                          [0, 0, 0, 0, 0.01]]) \n",
    "\n",
    "        # Noise on measurements\n",
    "        self.R=np.matrix([[0.001, 0, 0, 0, 0],\n",
    "                          [0, 0.001, 0, 0, 0],\n",
    "                          [0, 0, 0.001, 0, 0],\n",
    "                          [0, 0, 0, 0.5, 0],\n",
    "                          [0, 0, 0, 0, 0.5]])\n",
    "\n",
    "        self.P=np.matrix([[1, 0, 0, 0, 0],\n",
    "                           [0, 1, 0, 0, 0],\n",
    "                           [0, 0, 1, 0, 0],\n",
    "                           [0, 0, 0, 1, 0],\n",
    "                           [0, 0, 0, 0, 1]])\n",
    "        \n",
    "    def updateFk(self):\n",
    "        self.Fk=np.matrix([[1, 0, -self.Ts*self.x[3]*np.sin(self.x[2]), self.Ts*np.cos(self.x[2]), 0],\n",
    "                      [0, 1,  self.Ts*self.x[3]*np.cos(self.x[2]), self.Ts*np.sin(self.x[2]), 0],\n",
    "                      [0, 0, 1, 0, self.Ts],\n",
    "                      [0, 0, 0, 1, 0],\n",
    "                      [0, 0, 0, 0, 1]])\n",
    "        self.Fk = self.Fk.astype(float)\n",
    "\n",
    "    def predict(self):\n",
    "        # Update Fk\n",
    "        self.updateFk()\n",
    "        # Predicted State Estimate (A priori)\n",
    "        self.x=np.dot(self.Fk, self.x)\n",
    "        # Predicted Covariance Estimate\n",
    "        self.P=np.dot(np.dot(self.Fk, self.P), self.Fk.T)+self.Q\n",
    "        return self.x\n",
    "\n",
    "    def update(self, z): # z[0:2] corrpesonds to measurement of camera, z[3:4] corresponds to measurements of wheels\n",
    "                \n",
    "        # Compute Kalman gain\n",
    "        S=np.dot(self.H, np.dot(self.P, self.H.T))+self.R\n",
    "        inv_S = np.linalg.pinv(S.astype(float))\n",
    "        K=np.dot(np.dot(self.P, self.H.T),inv_S)\n",
    "\n",
    "        # Correction / innovation\n",
    "        self.x=self.x+np.dot(K, (z-np.dot(self.H, self.x)))\n",
    "        self.x=np.round(self.x.astype(float))\n",
    "        I=np.eye(self.H.shape[1])\n",
    "        self.P=(I-(K*self.H))*self.P\n",
    "\n",
    "        return self.x"
   ]
  },
  {
   "cell_type": "code",
   "execution_count": 103,
   "id": "c05d8463",
   "metadata": {},
   "outputs": [],
   "source": [
    "KF=KalmanFilter(0.1, [0, 0, 0, 0, 0])"
   ]
  },
  {
   "cell_type": "code",
   "execution_count": 104,
   "id": "031f18f1",
   "metadata": {},
   "outputs": [],
   "source": [
    "x_apriori = KF.predict().astype(np.int32)"
   ]
  },
  {
   "cell_type": "code",
   "execution_count": 105,
   "id": "3c47ae2c",
   "metadata": {},
   "outputs": [],
   "source": [
    "# Test if code works for random measurement z (z[0:2] is camera measurements px, py, theta and z[3:4] is wheel measurements)\n",
    "\n",
    "z = np.array([1,2,np.pi/3,1, 1])\n",
    "z = np.expand_dims(z, axis=-1)"
   ]
  },
  {
   "cell_type": "code",
   "execution_count": 106,
   "id": "1e4898de",
   "metadata": {},
   "outputs": [
    {
     "data": {
      "text/plain": [
       "matrix([[0.],\n",
       "        [0.],\n",
       "        [0.],\n",
       "        [0.],\n",
       "        [0.]])"
      ]
     },
     "execution_count": 106,
     "metadata": {},
     "output_type": "execute_result"
    }
   ],
   "source": [
    "KF.predict()\n"
   ]
  },
  {
   "cell_type": "code",
   "execution_count": 107,
   "id": "5c9ae226",
   "metadata": {},
   "outputs": [],
   "source": [
    "z = np.array([0.2,0.2,np.pi/4,0, 0])\n",
    "z = np.expand_dims(z, axis=-1)"
   ]
  },
  {
   "cell_type": "code",
   "execution_count": 108,
   "id": "041d6271",
   "metadata": {},
   "outputs": [
    {
     "ename": "ValueError",
     "evalue": "operands could not be broadcast together with shapes (5,1) (2,1) ",
     "output_type": "error",
     "traceback": [
      "\u001b[0;31m---------------------------------------------------------------------------\u001b[0m",
      "\u001b[0;31mValueError\u001b[0m                                Traceback (most recent call last)",
      "Input \u001b[0;32mIn [108]\u001b[0m, in \u001b[0;36m<cell line: 1>\u001b[0;34m()\u001b[0m\n\u001b[0;32m----> 1\u001b[0m \u001b[43mKF\u001b[49m\u001b[38;5;241;43m.\u001b[39;49m\u001b[43mupdate\u001b[49m\u001b[43m(\u001b[49m\u001b[43mz\u001b[49m\u001b[43m,\u001b[49m\u001b[38;5;28;43;01mFalse\u001b[39;49;00m\u001b[43m)\u001b[49m\n",
      "Input \u001b[0;32mIn [102]\u001b[0m, in \u001b[0;36mKalmanFilter.update\u001b[0;34m(self, z, CameraAvailable)\u001b[0m\n\u001b[1;32m     91\u001b[0m K\u001b[38;5;241m=\u001b[39mnp\u001b[38;5;241m.\u001b[39mdot(np\u001b[38;5;241m.\u001b[39mdot(\u001b[38;5;28mself\u001b[39m\u001b[38;5;241m.\u001b[39mP, \u001b[38;5;28mself\u001b[39m\u001b[38;5;241m.\u001b[39mH\u001b[38;5;241m.\u001b[39mT),inv_S)\n\u001b[1;32m     93\u001b[0m \u001b[38;5;66;03m# Correction / innovation\u001b[39;00m\n\u001b[0;32m---> 94\u001b[0m \u001b[38;5;28mself\u001b[39m\u001b[38;5;241m.\u001b[39mx\u001b[38;5;241m=\u001b[39m\u001b[38;5;28mself\u001b[39m\u001b[38;5;241m.\u001b[39mx\u001b[38;5;241m+\u001b[39mnp\u001b[38;5;241m.\u001b[39mdot(K, (\u001b[43mz\u001b[49m\u001b[38;5;241;43m-\u001b[39;49m\u001b[43mnp\u001b[49m\u001b[38;5;241;43m.\u001b[39;49m\u001b[43mdot\u001b[49m\u001b[43m(\u001b[49m\u001b[38;5;28;43mself\u001b[39;49m\u001b[38;5;241;43m.\u001b[39;49m\u001b[43mH\u001b[49m\u001b[43m,\u001b[49m\u001b[43m \u001b[49m\u001b[38;5;28;43mself\u001b[39;49m\u001b[38;5;241;43m.\u001b[39;49m\u001b[43mx\u001b[49m\u001b[43m)\u001b[49m))\n\u001b[1;32m     95\u001b[0m \u001b[38;5;28mself\u001b[39m\u001b[38;5;241m.\u001b[39mx\u001b[38;5;241m=\u001b[39mnp\u001b[38;5;241m.\u001b[39mround(\u001b[38;5;28mself\u001b[39m\u001b[38;5;241m.\u001b[39mx\u001b[38;5;241m.\u001b[39mastype(\u001b[38;5;28mfloat\u001b[39m))\n\u001b[1;32m     96\u001b[0m I\u001b[38;5;241m=\u001b[39mnp\u001b[38;5;241m.\u001b[39meye(\u001b[38;5;28mself\u001b[39m\u001b[38;5;241m.\u001b[39mH\u001b[38;5;241m.\u001b[39mshape[\u001b[38;5;241m1\u001b[39m])\n",
      "\u001b[0;31mValueError\u001b[0m: operands could not be broadcast together with shapes (5,1) (2,1) "
     ]
    }
   ],
   "source": [
    "KF.update(z,False)"
   ]
  },
  {
   "cell_type": "code",
   "execution_count": 85,
   "id": "e951c815",
   "metadata": {},
   "outputs": [],
   "source": [
    "z = np.array([2,2,np.pi/4,0,0])\n",
    "z = np.expand_dims(z, axis=-1)"
   ]
  },
  {
   "cell_type": "code",
   "execution_count": 86,
   "id": "b3c62439",
   "metadata": {},
   "outputs": [
    {
     "data": {
      "text/plain": [
       "matrix([[ 2.],\n",
       "        [ 2.],\n",
       "        [ 1.],\n",
       "        [ 4.],\n",
       "        [-0.]])"
      ]
     },
     "execution_count": 86,
     "metadata": {},
     "output_type": "execute_result"
    }
   ],
   "source": [
    "KF.predict()\n",
    "KF.update(z)"
   ]
  },
  {
   "cell_type": "code",
   "execution_count": 87,
   "id": "b0d29ece",
   "metadata": {},
   "outputs": [
    {
     "data": {
      "text/plain": [
       "matrix([[ 2.],\n",
       "        [ 2.],\n",
       "        [ 1.],\n",
       "        [ 3.],\n",
       "        [-0.]])"
      ]
     },
     "execution_count": 87,
     "metadata": {},
     "output_type": "execute_result"
    }
   ],
   "source": [
    "KF.predict()\n",
    "KF.update(z)"
   ]
  },
  {
   "cell_type": "code",
   "execution_count": 88,
   "id": "3540b0e6",
   "metadata": {},
   "outputs": [
    {
     "data": {
      "text/plain": [
       "matrix([[ 2.],\n",
       "        [ 2.],\n",
       "        [ 1.],\n",
       "        [ 2.],\n",
       "        [-0.]])"
      ]
     },
     "execution_count": 88,
     "metadata": {},
     "output_type": "execute_result"
    }
   ],
   "source": [
    "KF.predict()\n",
    "KF.update(z)"
   ]
  },
  {
   "cell_type": "code",
   "execution_count": 89,
   "id": "8c47af34",
   "metadata": {},
   "outputs": [],
   "source": [
    "z = np.array([100,100,np.pi/4,50,0])\n",
    "z = np.expand_dims(z, axis=-1)"
   ]
  },
  {
   "cell_type": "code",
   "execution_count": 90,
   "id": "22854b22",
   "metadata": {},
   "outputs": [
    {
     "data": {
      "text/plain": [
       "matrix([[1.93976626],\n",
       "        [2.27635466],\n",
       "        [1.        ],\n",
       "        [2.        ],\n",
       "        [0.        ]])"
      ]
     },
     "execution_count": 90,
     "metadata": {},
     "output_type": "execute_result"
    }
   ],
   "source": [
    "KF.predict()"
   ]
  },
  {
   "cell_type": "code",
   "execution_count": 91,
   "id": "8b7524c2",
   "metadata": {},
   "outputs": [
    {
     "data": {
      "text/plain": [
       "matrix([[ 92.],\n",
       "        [ 93.],\n",
       "        [  1.],\n",
       "        [100.],\n",
       "        [ -0.]])"
      ]
     },
     "execution_count": 91,
     "metadata": {},
     "output_type": "execute_result"
    }
   ],
   "source": [
    "KF.update(z)"
   ]
  },
  {
   "cell_type": "code",
   "execution_count": 92,
   "id": "f4b392e6",
   "metadata": {},
   "outputs": [
    {
     "data": {
      "text/plain": [
       "matrix([[ 88.98831321],\n",
       "        [106.81773291],\n",
       "        [  1.        ],\n",
       "        [100.        ],\n",
       "        [  0.        ]])"
      ]
     },
     "execution_count": 92,
     "metadata": {},
     "output_type": "execute_result"
    }
   ],
   "source": [
    "KF.predict()"
   ]
  },
  {
   "cell_type": "code",
   "execution_count": 93,
   "id": "9819cdd1",
   "metadata": {},
   "outputs": [
    {
     "data": {
      "text/plain": [
       "matrix([[100.],\n",
       "        [100.],\n",
       "        [  1.],\n",
       "        [ 93.],\n",
       "        [ -0.]])"
      ]
     },
     "execution_count": 93,
     "metadata": {},
     "output_type": "execute_result"
    }
   ],
   "source": [
    "KF.update(z)"
   ]
  },
  {
   "cell_type": "code",
   "execution_count": null,
   "id": "66f7f6d5",
   "metadata": {},
   "outputs": [],
   "source": []
  },
  {
   "cell_type": "code",
   "execution_count": null,
   "id": "ec5d0b3f",
   "metadata": {},
   "outputs": [],
   "source": []
  },
  {
   "cell_type": "code",
   "execution_count": null,
   "id": "ddd07993",
   "metadata": {},
   "outputs": [],
   "source": []
  },
  {
   "cell_type": "code",
   "execution_count": null,
   "id": "4a2c3cb0",
   "metadata": {},
   "outputs": [],
   "source": []
  },
  {
   "cell_type": "code",
   "execution_count": null,
   "id": "d28c873f",
   "metadata": {},
   "outputs": [],
   "source": []
  }
 ],
 "metadata": {
  "kernelspec": {
   "display_name": "Python 3 (ipykernel)",
   "language": "python",
   "name": "python3"
  },
  "language_info": {
   "codemirror_mode": {
    "name": "ipython",
    "version": 3
   },
   "file_extension": ".py",
   "mimetype": "text/x-python",
   "name": "python",
   "nbconvert_exporter": "python",
   "pygments_lexer": "ipython3",
   "version": "3.9.12"
  }
 },
 "nbformat": 4,
 "nbformat_minor": 5
}
