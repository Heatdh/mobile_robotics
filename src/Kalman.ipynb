{
 "cells": [
  {
   "cell_type": "code",
   "execution_count": 1,
   "id": "8d4e3a0a",
   "metadata": {},
   "outputs": [],
   "source": [
    "# Extended Kalman Implementation"
   ]
  },
  {
   "cell_type": "code",
   "execution_count": 2,
   "id": "0b2ce5f7",
   "metadata": {},
   "outputs": [],
   "source": [
    "def getVelocities(left_motor_speed, right_motor_speed): # From thymio angular motor.left.speed() and motor.right.speed(), get forward speed v and rotational speed omega: \n",
    "    wheel_radius = 5 \n",
    "    wheelbase_radius = 10\n",
    "    motortarget_to_speed = 20 # NEED TO REPLACE THESE CONSTANTS\n",
    "    \n",
    "    left_speed = motortarget_to_speed * left_motor_speed\n",
    "    right_speed = motortarget_to_speed * right_motor_speed\n",
    "    \n",
    "    v = (left_speed + right_speed)*wheel_radius/2\n",
    "    omega = (-left_speed + right_speed)*wheel_radius/wheelbase_radius\n",
    "    \n",
    "    return v, omega"
   ]
  },
  {
   "cell_type": "code",
   "execution_count": 3,
   "id": "ae72e159",
   "metadata": {},
   "outputs": [
    {
     "data": {
      "text/plain": [
       "(10000.0, 0.0)"
      ]
     },
     "execution_count": 3,
     "metadata": {},
     "output_type": "execute_result"
    }
   ],
   "source": [
    "getVelocities(100,100)"
   ]
  },
  {
   "cell_type": "code",
   "execution_count": 118,
   "id": "bdf66d98",
   "metadata": {},
   "outputs": [],
   "source": [
    "import numpy as np\n",
    "\n",
    "# Example of instance: KF=KalmanFilter(0.1, [0, 0, 0, 0, 0]) (Ts is time between each measurement, x_ini is initial conditions)\n",
    "\n",
    "# For update() function : need measurement vector z\n",
    "# z[0:2] are the measurements from the camera (px, py, orientation)\n",
    "# z[3:4] are the measurements from the Thymio (need to convert motor.left.speed() and motor.right.speed() to v and omega with the getVelocities() function.\n",
    "\n",
    "\n",
    "class KalmanFilter():\n",
    "    def __init__(self, Ts, x_ini):\n",
    "        self.Ts = Ts\n",
    "\n",
    "        # Initial State Vector\n",
    "        self.x=np.matrix([[x_ini[0]], [x_ini[1]], [x_ini[2]], [x_ini[3]], [x_ini[4]]])\n",
    "    \n",
    "\n",
    "        # State Transition Matrix (Warning : changes with time -> Extended Kalman Filter)\n",
    "        self.Fk=np.matrix([[1, 0, 0, 0, 0],\n",
    "                           [0, 1, 0, 0, 0],\n",
    "                           [0, 0, 1, 0, 0],\n",
    "                           [0, 0, 0, 1, 0],\n",
    "                           [0, 0, 0, 0, 1]])\n",
    "\n",
    "        # Observation matrix (here all states px, py, theta, v, omega can be observed)\n",
    "        self.H=np.matrix([[1, 0, 0, 0, 0],\n",
    "                          [0, 1, 0, 0, 0],\n",
    "                          [0, 0, 1, 0, 0],\n",
    "                          [0, 0, 0, 1, 0],\n",
    "                          [0, 0, 0, 0, 1]])\n",
    "\n",
    "        # Noise on system\n",
    "        self.Q=np.matrix([[0.01, 0, 0, 0, 0],\n",
    "                          [0, 0.01, 0, 0, 0],\n",
    "                          [0, 0, 0.01, 0, 0],\n",
    "                          [0, 0, 0, 0.01, 0],\n",
    "                          [0, 0, 0, 0, 0.01]]) \n",
    "\n",
    "        # Noise on measurements\n",
    "        self.R=np.matrix([[0.001, 0, 0, 0, 0],\n",
    "                          [0, 0.001, 0, 0, 0],\n",
    "                          [0, 0, 0.001, 0, 0],\n",
    "                          [0, 0, 0, 0.5, 0],\n",
    "                          [0, 0, 0, 0, 0.5]])\n",
    "\n",
    "        self.P=np.matrix([[1, 0, 0, 0, 0],\n",
    "                           [0, 1, 0, 0, 0],\n",
    "                           [0, 0, 1, 0, 0],\n",
    "                           [0, 0, 0, 1, 0],\n",
    "                           [0, 0, 0, 0, 1]])\n",
    "        \n",
    "    def updateFk(self):\n",
    "        self.Fk=np.matrix([[1, 0, -self.Ts*self.x[3]*np.sin(self.x[2]), self.Ts*np.cos(self.x[2]), 0],\n",
    "                      [0, 1,  self.Ts*self.x[3]*np.cos(self.x[2]), self.Ts*np.sin(self.x[2]), 0],\n",
    "                      [0, 0, 1, 0, self.Ts],\n",
    "                      [0, 0, 0, 1, 0],\n",
    "                      [0, 0, 0, 0, 1]])\n",
    "        self.Fk = self.Fk.astype(float)\n",
    "\n",
    "    def predict(self):\n",
    "        # Update Fk\n",
    "        self.updateFk()\n",
    "        # Predicted State Estimate (A priori)\n",
    "        self.x=np.dot(self.Fk, self.x)\n",
    "        # Predicted Covariance Estimate\n",
    "        self.P=np.dot(np.dot(self.Fk, self.P), self.Fk.T)+self.Q\n",
    "        return self.x\n",
    "\n",
    "    def update(self, z, CameraAccessible = True): # z[0:2] corrpesonds to measurement of camera, z[3:4] corresponds to measurements of wheels\n",
    "        \n",
    "        if CameraAccessible:\n",
    "            self.H=np.matrix([[1, 0, 0, 0, 0],\n",
    "                          [0, 1, 0, 0, 0],\n",
    "                          [0, 0, 1, 0, 0],\n",
    "                          [0, 0, 0, 1, 0],\n",
    "                          [0, 0, 0, 0, 1]])\n",
    "            \n",
    "            self.R=np.matrix([[0.001, 0, 0, 0, 0],\n",
    "                          [0, 0.001, 0, 0, 0],\n",
    "                          [0, 0, 0.001, 0, 0],\n",
    "                          [0, 0, 0, 0.5, 0],\n",
    "                          [0, 0, 0, 0, 0.5]])\n",
    "        else: # ------------------------------------------ WARNING : IF CAMERAACCESSIBLE = FALSE, Z IS A 2x1 VECTOR\n",
    "            self.H=np.matrix([[0, 0, 0, 1, 0],\n",
    "                              [0, 0, 0, 0, 1]])\n",
    "            \n",
    "            self.R=np.matrix([[0.5, 0],\n",
    "                              [0,0.5]])\n",
    "            \n",
    "            \n",
    "        # Compute Kalman gain\n",
    "        S=np.dot(self.H, np.dot(self.P, self.H.T))+self.R\n",
    "        inv_S = np.linalg.pinv(S.astype(float))\n",
    "        K=np.dot(np.dot(self.P, self.H.T),inv_S)\n",
    "\n",
    "        # Correction / innovation\n",
    "        self.x=self.x+np.dot(K, (z-np.dot(self.H, self.x)))\n",
    "        self.x=np.round(self.x.astype(float))\n",
    "        I=np.eye(self.H.shape[1])\n",
    "        self.P=(I-(K*self.H))*self.P\n",
    "\n",
    "\n",
    "        return self.x"
   ]
  },
  {
   "cell_type": "code",
   "execution_count": 119,
   "id": "e8983b0e",
   "metadata": {},
   "outputs": [],
   "source": [
    "KF=KalmanFilter(0.1, [0, 0, 0, 0, 0])"
   ]
  },
  {
   "cell_type": "code",
   "execution_count": 120,
   "id": "07a2e1ba",
   "metadata": {},
   "outputs": [],
   "source": [
    "x_apriori = KF.predict().astype(np.int32)"
   ]
  },
  {
   "cell_type": "code",
   "execution_count": 121,
   "id": "7546b7f9",
   "metadata": {},
   "outputs": [],
   "source": [
    "# Test if code works for random measurement z (z[0:2] is camera measurements px, py, theta and z[3:4] is wheel measurements)\n",
    "\n",
    "z = np.array([1,2,np.pi/3,1, 1])\n",
    "z = np.expand_dims(z, axis=-1)"
   ]
  },
  {
   "cell_type": "code",
   "execution_count": 122,
   "id": "fda45111",
   "metadata": {},
   "outputs": [
    {
     "data": {
      "text/plain": [
       "matrix([[0.],\n",
       "        [0.],\n",
       "        [0.],\n",
       "        [0.],\n",
       "        [0.]])"
      ]
     },
     "execution_count": 122,
     "metadata": {},
     "output_type": "execute_result"
    }
   ],
   "source": [
    "KF.predict()\n"
   ]
  },
  {
   "cell_type": "code",
   "execution_count": 127,
   "id": "016dc2dc",
   "metadata": {},
   "outputs": [],
   "source": [
    "z = np.array([2,2,np.pi/4,0,0])\n",
    "z = np.expand_dims(z, axis=-1)"
   ]
  },
  {
   "cell_type": "code",
   "execution_count": 128,
   "id": "9e2346f5",
   "metadata": {},
   "outputs": [
    {
     "data": {
      "text/plain": [
       "matrix([[2.],\n",
       "        [2.],\n",
       "        [1.],\n",
       "        [0.],\n",
       "        [0.]])"
      ]
     },
     "execution_count": 128,
     "metadata": {},
     "output_type": "execute_result"
    }
   ],
   "source": [
    "KF.predict()"
   ]
  },
  {
   "cell_type": "code",
   "execution_count": 129,
   "id": "cf7d5378",
   "metadata": {},
   "outputs": [
    {
     "data": {
      "text/plain": [
       "matrix([[ 2.],\n",
       "        [ 2.],\n",
       "        [ 1.],\n",
       "        [ 0.],\n",
       "        [-0.]])"
      ]
     },
     "execution_count": 129,
     "metadata": {},
     "output_type": "execute_result"
    }
   ],
   "source": [
    "KF.update(z)"
   ]
  },
  {
   "cell_type": "code",
   "execution_count": 166,
   "id": "193b816f",
   "metadata": {},
   "outputs": [],
   "source": [
    "z = np.array([10, 0])\n",
    "z = np.expand_dims(z, axis=-1)"
   ]
  },
  {
   "cell_type": "code",
   "execution_count": 167,
   "id": "e8e4b296",
   "metadata": {},
   "outputs": [
    {
     "data": {
      "text/plain": [
       "matrix([[-7.],\n",
       "        [11.],\n",
       "        [ 2.],\n",
       "        [ 7.],\n",
       "        [ 3.]])"
      ]
     },
     "execution_count": 167,
     "metadata": {},
     "output_type": "execute_result"
    }
   ],
   "source": [
    "KF.predict()\n",
    "KF.update(z,False)"
   ]
  },
  {
   "cell_type": "code",
   "execution_count": 141,
   "id": "1d0c1d28",
   "metadata": {},
   "outputs": [],
   "source": [
    "z = np.array([2,2,np.pi/4,0,0])\n",
    "z = np.expand_dims(z, axis=-1)"
   ]
  },
  {
   "cell_type": "code",
   "execution_count": 86,
   "id": "2e64a19d",
   "metadata": {},
   "outputs": [
    {
     "data": {
      "text/plain": [
       "matrix([[ 2.],\n",
       "        [ 2.],\n",
       "        [ 1.],\n",
       "        [ 4.],\n",
       "        [-0.]])"
      ]
     },
     "execution_count": 86,
     "metadata": {},
     "output_type": "execute_result"
    }
   ],
   "source": [
    "KF.predict()\n",
    "KF.update(z)"
   ]
  },
  {
   "cell_type": "code",
   "execution_count": 87,
   "id": "d2f10771",
   "metadata": {},
   "outputs": [
    {
     "data": {
      "text/plain": [
       "matrix([[ 2.],\n",
       "        [ 2.],\n",
       "        [ 1.],\n",
       "        [ 3.],\n",
       "        [-0.]])"
      ]
     },
     "execution_count": 87,
     "metadata": {},
     "output_type": "execute_result"
    }
   ],
   "source": [
    "KF.predict()\n",
    "KF.update(z)"
   ]
  },
  {
   "cell_type": "code",
   "execution_count": 88,
   "id": "359a0516",
   "metadata": {},
   "outputs": [
    {
     "data": {
      "text/plain": [
       "matrix([[ 2.],\n",
       "        [ 2.],\n",
       "        [ 1.],\n",
       "        [ 2.],\n",
       "        [-0.]])"
      ]
     },
     "execution_count": 88,
     "metadata": {},
     "output_type": "execute_result"
    }
   ],
   "source": [
    "KF.predict()\n",
    "KF.update(z)"
   ]
  },
  {
   "cell_type": "code",
   "execution_count": 89,
   "id": "77b9a14c",
   "metadata": {},
   "outputs": [],
   "source": [
    "z = np.array([100,100,np.pi/4,50,0])\n",
    "z = np.expand_dims(z, axis=-1)"
   ]
  },
  {
   "cell_type": "code",
   "execution_count": 90,
   "id": "f02f1b76",
   "metadata": {},
   "outputs": [
    {
     "data": {
      "text/plain": [
       "matrix([[1.93976626],\n",
       "        [2.27635466],\n",
       "        [1.        ],\n",
       "        [2.        ],\n",
       "        [0.        ]])"
      ]
     },
     "execution_count": 90,
     "metadata": {},
     "output_type": "execute_result"
    }
   ],
   "source": [
    "KF.predict()"
   ]
  },
  {
   "cell_type": "code",
   "execution_count": 91,
   "id": "657aa1e2",
   "metadata": {},
   "outputs": [
    {
     "data": {
      "text/plain": [
       "matrix([[ 92.],\n",
       "        [ 93.],\n",
       "        [  1.],\n",
       "        [100.],\n",
       "        [ -0.]])"
      ]
     },
     "execution_count": 91,
     "metadata": {},
     "output_type": "execute_result"
    }
   ],
   "source": [
    "KF.update(z)"
   ]
  },
  {
   "cell_type": "code",
   "execution_count": 92,
   "id": "6712e38e",
   "metadata": {},
   "outputs": [
    {
     "data": {
      "text/plain": [
       "matrix([[ 88.98831321],\n",
       "        [106.81773291],\n",
       "        [  1.        ],\n",
       "        [100.        ],\n",
       "        [  0.        ]])"
      ]
     },
     "execution_count": 92,
     "metadata": {},
     "output_type": "execute_result"
    }
   ],
   "source": [
    "KF.predict()"
   ]
  },
  {
   "cell_type": "code",
   "execution_count": 93,
   "id": "a24e1a25",
   "metadata": {},
   "outputs": [
    {
     "data": {
      "text/plain": [
       "matrix([[100.],\n",
       "        [100.],\n",
       "        [  1.],\n",
       "        [ 93.],\n",
       "        [ -0.]])"
      ]
     },
     "execution_count": 93,
     "metadata": {},
     "output_type": "execute_result"
    }
   ],
   "source": [
    "KF.update(z)"
   ]
  },
  {
   "cell_type": "code",
   "execution_count": null,
   "id": "a73ee67a",
   "metadata": {},
   "outputs": [],
   "source": [
    "Ts = 0.1  # time tick [s]\n",
    "SIM_TIME = 50.0  # simulation time [s]\n",
    "\n",
    "show_animation = True"
   ]
  },
  {
   "cell_type": "code",
   "execution_count": null,
   "id": "77a9792a",
   "metadata": {},
   "outputs": [],
   "source": []
  },
  {
   "cell_type": "code",
   "execution_count": null,
   "id": "6280470d",
   "metadata": {},
   "outputs": [],
   "source": []
  },
  {
   "cell_type": "code",
   "execution_count": null,
   "id": "56ccf003",
   "metadata": {},
   "outputs": [],
   "source": []
  },
  {
   "cell_type": "code",
   "execution_count": null,
   "id": "cb1885c5",
   "metadata": {},
   "outputs": [],
   "source": []
  }
 ],
 "metadata": {
  "kernelspec": {
   "display_name": "machine",
   "language": "python",
   "name": "python3"
  },
  "language_info": {
   "codemirror_mode": {
    "name": "ipython",
    "version": 3
   },
   "file_extension": ".py",
   "mimetype": "text/x-python",
   "name": "python",
   "nbconvert_exporter": "python",
   "pygments_lexer": "ipython3",
   "version": "3.8.13 (default, Mar 28 2022, 06:16:26) \n[Clang 12.0.0 ]"
  },
  "vscode": {
   "interpreter": {
    "hash": "5945d009ee0301743890d7430330cf9f851036b09bb94721e9fa183962f8f342"
   }
  }
 },
 "nbformat": 4,
 "nbformat_minor": 5
}
