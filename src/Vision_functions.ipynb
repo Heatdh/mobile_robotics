{
 "cells": [
  {
   "cell_type": "code",
   "execution_count": 1,
   "id": "b5bbdb4f",
   "metadata": {},
   "outputs": [],
   "source": [
    "## Image Processing Functions"
   ]
  },
  {
   "cell_type": "code",
   "execution_count": 2,
   "id": "0d3ca107",
   "metadata": {},
   "outputs": [],
   "source": [
    "## SOURCES\n",
    "\n",
    "# Basic Camera Manipulations : https://dev.to/azure/opencv-access-to-a-camera-in-a-jupyter-notebook-with-python-18mb\n",
    "# Vertice Detection : https://docs.opencv.org/3.4/dc/d0d/tutorial_py_features_harris.html\n",
    "# Distinguish one obstacle from the other : https://scipy-lectures.org/advanced/image_processing/auto_examples/plot_synthetic_data.html#sphx-glr-advanced-image-processing-auto-examples-plot-synthetic-data-py\n",
    "# Color Detection : https://notebook.community/ricklon/opencvraspberrypi/notebook/openCV%20color%20detection\n",
    "# Color Detectin : https://discover.hubpages.com/technology/Color-spaces-RGB-vs-HSV-Which-one-to-use\n",
    "\n",
    "# https://datacarpentry.org/image-processing/aio/index.html\n",
    "\n",
    "# Center of contour : https://pyimagesearch.com/2016/02/01/opencv-center-of-contour/\n",
    "\n",
    "# M : https://docs.opencv.org/3.4/dd/d49/tutorial_py_contour_features.html\n",
    "    \n",
    "    "
   ]
  },
  {
   "cell_type": "code",
   "execution_count": 3,
   "id": "114aab75",
   "metadata": {},
   "outputs": [],
   "source": [
    "# Import Libraries\n",
    "\n",
    "import cv2\n",
    "import cv2 as cv\n",
    "from matplotlib import pyplot as plt\n",
    "import math\n",
    "from math import atan2, cos, sin, sqrt, pi\n",
    "import numpy as np"
   ]
  },
  {
   "cell_type": "code",
   "execution_count": 4,
   "id": "702426af",
   "metadata": {},
   "outputs": [
    {
     "ename": "error",
     "evalue": "OpenCV(4.6.0) D:\\a\\opencv-python\\opencv-python\\opencv\\modules\\imgproc\\src\\color.cpp:182: error: (-215:Assertion failed) !_src.empty() in function 'cv::cvtColor'\n",
     "output_type": "error",
     "traceback": [
      "\u001b[1;31m---------------------------------------------------------------------------\u001b[0m",
      "\u001b[1;31merror\u001b[0m                                     Traceback (most recent call last)",
      "Cell \u001b[1;32mIn [4], line 2\u001b[0m\n\u001b[0;32m      1\u001b[0m img \u001b[38;5;241m=\u001b[39m cv2\u001b[38;5;241m.\u001b[39mimread(\u001b[38;5;124m'\u001b[39m\u001b[38;5;124m/Users/noah/Desktop/python/MobileRobotics/imageproc/sample2_image.png\u001b[39m\u001b[38;5;124m'\u001b[39m)\n\u001b[1;32m----> 2\u001b[0m img_rgb \u001b[38;5;241m=\u001b[39m \u001b[43mcv2\u001b[49m\u001b[38;5;241;43m.\u001b[39;49m\u001b[43mcvtColor\u001b[49m\u001b[43m(\u001b[49m\u001b[43mimg\u001b[49m\u001b[43m,\u001b[49m\u001b[43m \u001b[49m\u001b[43mcv2\u001b[49m\u001b[38;5;241;43m.\u001b[39;49m\u001b[43mCOLOR_BGR2RGB\u001b[49m\u001b[43m)\u001b[49m\n\u001b[0;32m      3\u001b[0m img_blur \u001b[38;5;241m=\u001b[39m cv2\u001b[38;5;241m.\u001b[39mbilateralFilter(img_rgb,\u001b[38;5;241m9\u001b[39m,\u001b[38;5;241m75\u001b[39m,\u001b[38;5;241m75\u001b[39m)\n\u001b[0;32m      4\u001b[0m plt\u001b[38;5;241m.\u001b[39mimshow(img_blur);\n",
      "\u001b[1;31merror\u001b[0m: OpenCV(4.6.0) D:\\a\\opencv-python\\opencv-python\\opencv\\modules\\imgproc\\src\\color.cpp:182: error: (-215:Assertion failed) !_src.empty() in function 'cv::cvtColor'\n"
     ]
    }
   ],
   "source": [
    "img = cv2.imread('/Users/noah/Desktop/python/MobileRobotics/imageproc/sample2_image.png')\n",
    "img_rgb = cv2.cvtColor(img, cv2.COLOR_BGR2RGB)\n",
    "img_blur = cv2.bilateralFilter(img_rgb,9,75,75)\n",
    "plt.imshow(img_blur);"
   ]
  },
  {
   "cell_type": "code",
   "execution_count": null,
   "id": "eabe544a",
   "metadata": {},
   "outputs": [],
   "source": [
    "def get_goal_position(filtered_img):\n",
    "    \n",
    "    # RETURNS TUPLE (X,Y) CORRESPONDING TO COORDINATES OF CENTER OF END GOAL POSITION\n",
    "    \n",
    "    filtered_img_hsv = cv2.cvtColor(filtered_img, cv2.COLOR_RGB2HSV) # convert rgb to hsv\n",
    "    min_blue = np.array([60, 0, 0])\n",
    "    max_blue = np.array([150, 255, 255])\n",
    "    mask = cv2.inRange(filtered_img_hsv, min_blue, max_blue) # mask for blue color\n",
    "    \n",
    "    output = cv2.bitwise_and(filtered_img, filtered_img, mask=mask)\n",
    "    \n",
    "    ret,thresh = cv2.threshold(mask, 40, 255, 0)\n",
    "    contours, hierarchy = cv2.findContours(thresh, cv2.RETR_EXTERNAL, cv2.CHAIN_APPROX_SIMPLE) # use for geometrical shapes : CHAIN_APPROX_SIMPLE \n",
    "    \n",
    "    if len(contours) != 0:\n",
    "\n",
    "        # find the biggest countour (c) by the area\n",
    "        c = max(contours, key = cv2.contourArea)\n",
    "        M = cv.moments(c)\n",
    "        x_center = int(M['m10']/M['m00'])\n",
    "        y_center = int(M['m01']/M['m00'])\n",
    "        \n",
    "    (x,y),radius = cv.minEnclosingCircle(c)\n",
    "    center = (int(x),int(y))\n",
    "    radius = int(radius)\n",
    "    cv.circle(output,center,radius,(0,255,0),10) \n",
    "    plt.imshow(output)\n",
    "          \n",
    "        \n",
    "    return (x_center,y_center)"
   ]
  },
  {
   "cell_type": "code",
   "execution_count": null,
   "id": "98cbc6ff",
   "metadata": {},
   "outputs": [
    {
     "data": {
      "image/png": "[encoded data removed]",
      "text/plain": [
       "<Figure size 432x288 with 1 Axes>"
      ]
     },
     "metadata": {
      "needs_background": "light"
     },
     "output_type": "display_data"
    }
   ],
   "source": [
    "x_center,y_center = get_goal_position(img_blur)"
   ]
  },
  {
   "cell_type": "code",
   "execution_count": null,
   "id": "80eb6063",
   "metadata": {},
   "outputs": [],
   "source": []
  },
  {
   "cell_type": "code",
   "execution_count": null,
   "id": "6c1e416b",
   "metadata": {},
   "outputs": [],
   "source": [
    "# https://stackoverflow.com/questions/66655408/draw-a-line-on-an-image-using-angle-and-center-point-using-python\n",
    "# Used to draw thymios orientation\n",
    "import math\n",
    "\n",
    "def get_coords(x, y, angle, imwidth, imheight):\n",
    "\n",
    "    x1_length = (x-imwidth) / math.cos(angle)\n",
    "    y1_length = (y-imheight) / math.sin(angle)\n",
    "    length = max(abs(x1_length), abs(y1_length))\n",
    "    endx1 = x + length * math.cos(math.radians(angle))\n",
    "    endy1 = y + length * math.sin(math.radians(angle))\n",
    "\n",
    "    x2_length = (x-imwidth) / math.cos(angle+180)\n",
    "    y2_length = (y-imheight) / math.sin(angle+180)\n",
    "    length = max(abs(x2_length), abs(y2_length))\n",
    "    endx2 = x + length * math.cos(math.radians(angle+180))\n",
    "    endy2 = y + length * math.sin(math.radians(angle+180))\n",
    "\n",
    "    return endx1, endy1, endx2, endy2"
   ]
  },
  {
   "cell_type": "code",
   "execution_count": null,
   "id": "ae5e539e",
   "metadata": {},
   "outputs": [],
   "source": [
    "def get_thymio_position(filtered_img):\n",
    "    \n",
    "    # RETURNS CENTER COORDINATES, RADIUS AND ORIENTATION (provides extra coordinants (xb, yb) to know which direction, as well as angle) OF THYMIO ROBOT\n",
    "    \n",
    "    filtered_img_hsv = cv2.cvtColor(filtered_img, cv2.COLOR_RGB2HSV) # convert rgb to hsv\n",
    "    min_red = np.array([0, 125, 200]) # before [0, 0, 220]\n",
    "    max_red = np.array([80, 255, 255]) # before [30, 255, 255]\n",
    "    mask = cv2.inRange(filtered_img_hsv, min_red, max_red) # mask for red color\n",
    "    \n",
    "    output = cv2.bitwise_and(filtered_img, filtered_img, mask=mask)\n",
    "    \n",
    "    ret,thresh = cv2.threshold(mask, 40, 255, 0)\n",
    "    contours, hierarchy = cv2.findContours(thresh, cv2.RETR_EXTERNAL, cv2.CHAIN_APPROX_NONE)\n",
    "    \n",
    "    if len(contours) != 0:\n",
    "\n",
    "        # find the biggest countour (c) by the area\n",
    "        c = max(contours, key = cv2.contourArea)\n",
    "        M = cv.moments(c)\n",
    "        x_M = int(M['m10']/M['m00'])\n",
    "        y_M = int(M['m01']/M['m00'])\n",
    "        \n",
    "        (x_circle,y_circle),radius = cv.minEnclosingCircle(c)\n",
    "        center_circle = (int(x_circle),int(y_circle))\n",
    "        radius = int(radius)\n",
    "        cv.circle(output,center_circle,radius,(0,255,0),10) \n",
    "    \n",
    "    \n",
    "        # cv.minAreaRect returns: (center(x, y), (width, height), angle of rotation) \n",
    "        rect = cv.minAreaRect(c)\n",
    "        box = cv.boxPoints(rect)\n",
    "        box = np.int0(box)\n",
    "        center_rect = (int(rect[0][0]),int(rect[0][1])) \n",
    "        width = int(rect[1][0])\n",
    "        height = int(rect[1][1])\n",
    "        angle = int(rect[2])\n",
    "\n",
    "        cv.drawContours(output,[box],0,(255,0,0),10)\n",
    "        \n",
    "        \n",
    "        #pca_center, pca_p1, pca_p2, pca_angle = getOrientation(c,output) # not very accurate for now\n",
    "        angle2 = math.degrees(atan2((center_circle[1]-center_rect[1]),(center_circle[0]-center_rect[0])))\n",
    "        \n",
    "        endx1, endy1, endx2, endy2 = get_coords(center_circle[0], center_circle[1], angle2, filtered_img.shape[1], filtered_img.shape[0])\n",
    "        \n",
    "        cv.line(output,(int(endx1),int(endy1)),(int(endx2),int(endy2)),(200,0,225),15)\n",
    "        plt.imshow(output)\n",
    "        \n",
    "    return (center_circle, radius, center_rect, angle2)"
   ]
  },
  {
   "cell_type": "code",
   "execution_count": null,
   "id": "698ce81c",
   "metadata": {},
   "outputs": [
    {
     "data": {
      "image/png": "[encoded data removed]",
      "text/plain": [
       "<Figure size 432x288 with 1 Axes>"
      ]
     },
     "metadata": {
      "needs_background": "light"
     },
     "output_type": "display_data"
    }
   ],
   "source": [
    "center_circle, radius, center_rect, angle2 = get_thymio_position(img_blur)"
   ]
  },
  {
   "cell_type": "code",
   "execution_count": null,
   "id": "76a9f9e9",
   "metadata": {},
   "outputs": [],
   "source": []
  },
  {
   "cell_type": "code",
   "execution_count": null,
   "id": "68f7818e",
   "metadata": {},
   "outputs": [],
   "source": []
  },
  {
   "cell_type": "code",
   "execution_count": null,
   "id": "1adb79ef",
   "metadata": {},
   "outputs": [],
   "source": [
    "# New sample image:\n",
    "img = cv2.imread('/Users/noah/Desktop/python/MobileRobotics/imageproc/sample3_image.png')\n",
    "img_rgb = cv2.cvtColor(img, cv2.COLOR_BGR2RGB)\n",
    "img_blur = cv2.bilateralFilter(img_rgb,9,75,75)\n",
    "plt.imshow(img_blur);"
   ]
  },
  {
   "cell_type": "code",
   "execution_count": null,
   "id": "dcd40e48",
   "metadata": {},
   "outputs": [],
   "source": []
  }
 ],
 "metadata": {
  "kernelspec": {
   "display_name": "Python 3.10.8 ('yolo5')",
   "language": "python",
   "name": "python3"
  },
  "language_info": {
   "codemirror_mode": {
    "name": "ipython",
    "version": 3
   },
   "file_extension": ".py",
   "mimetype": "text/x-python",
   "name": "python",
   "nbconvert_exporter": "python",
   "pygments_lexer": "ipython3",
   "version": "3.10.8"
  },
  "vscode": {
   "interpreter": {
    "hash": "209d151bddc2f7e3c36f7afa7e4c4cfbe015c057626e117d36d955ee09a38767"
   }
  }
 },
 "nbformat": 4,
 "nbformat_minor": 5
}
